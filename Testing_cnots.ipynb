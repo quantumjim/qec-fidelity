{
 "cells": [
  {
   "cell_type": "markdown",
   "id": "146bc404",
   "metadata": {},
   "source": [
    "# Testing Cnots\n",
    "\n",
    "In this notebook we take imperfect versions of cnot gates and see how well they would work within a `d=3`, `T=1` surface code and a `d=5`, `T=3` repetition code."
   ]
  },
  {
   "cell_type": "code",
   "execution_count": 1,
   "id": "9c091985",
   "metadata": {},
   "outputs": [],
   "source": [
    "import numpy as np\n",
    "from copy import deepcopy\n",
    "\n",
    "from topological_codes import RepetitionCode, SurfaceCode, GraphDecoder\n",
    "\n",
    "from qiskit import QuantumCircuit, transpile\n",
    "from qiskit.providers.aer import AerSimulator\n",
    "from qiskit.providers.aer.noise.errors import depolarizing_error\n",
    "from qiskit.circuit.library import CRXGate\n",
    "\n",
    "from qiskit.quantum_info import process_fidelity\n",
    "\n",
    "from matplotlib import pyplot as plt"
   ]
  },
  {
   "cell_type": "markdown",
   "id": "2e0b09d4",
   "metadata": {},
   "source": [
    "The candidate cnots to be tested need to be provided as a Qiskit instruction. These can be created from forms such as unitaries, Choi matrices, Qiskit gates and Qiskit circuits.\n",
    "\n",
    "For example, the following function creates a noisy cnot from a noisy circuit, parameterized by an error probability $\\epsilon$. This can generate both coherent or incoherent forms of noise."
   ]
  },
  {
   "cell_type": "code",
   "execution_count": 2,
   "id": "df891bed",
   "metadata": {},
   "outputs": [],
   "source": [
    "def noisy_cx(eps, coherent=True):\n",
    "    if coherent:\n",
    "        error = CRXGate(np.pi*eps/2)\n",
    "    else:\n",
    "        error = depolarizing_error(eps/2,2)\n",
    "    qc = QuantumCircuit(2,name='noisy cx')\n",
    "    qc.append(error,[1,0])\n",
    "    qc.cx(0,1)\n",
    "    qc.append(error,[1,0])\n",
    "    return qc.to_instruction()"
   ]
  },
  {
   "cell_type": "code",
   "execution_count": 3,
   "id": "59ad2bf3",
   "metadata": {},
   "outputs": [],
   "source": [
    "code = SurfaceCode(3,2)\n",
    "qc = code.circuit['0']"
   ]
  },
  {
   "cell_type": "markdown",
   "id": "735aa3ef",
   "metadata": {},
   "source": [
    "Given a code and a candidate cnot, the following function replaces all instances of cnots with the candidate cnot."
   ]
  },
  {
   "cell_type": "code",
   "execution_count": 4,
   "id": "421e5eb1",
   "metadata": {},
   "outputs": [],
   "source": [
    "def make_noisy_code(code, cand_cx):\n",
    "    \n",
    "    noisy_code = deepcopy(code)\n",
    "    for log in code.circuit:\n",
    "\n",
    "        qc = noisy_code.circuit[log]\n",
    "        temp_qc = QuantumCircuit()\n",
    "        for qreg in qc.qregs:\n",
    "            temp_qc.add_register(qreg)\n",
    "        for creg in qc.cregs:\n",
    "            temp_qc.add_register(creg)\n",
    "\n",
    "        for gate in qc.data:\n",
    "            if gate[0].name=='cx':\n",
    "                temp_qc.append(cand_cx,gate[1])\n",
    "            else:\n",
    "                temp_qc.data.append(gate)\n",
    "\n",
    "        noisy_code.circuit[log] = temp_qc.copy()\n",
    "        \n",
    "    return noisy_code"
   ]
  },
  {
   "cell_type": "markdown",
   "id": "4f4a80c3",
   "metadata": {},
   "source": [
    "In some cases, it is better to extract the exact probabilities from a simulation rather than using sampling. However, to do this we need to defer all measurements to the end. For this we add auxilliary qubits corresponding to each classical bit. We also need to rewrite the output bit string to reproduce the format that the result should be. The following functions do these things."
   ]
  },
  {
   "cell_type": "code",
   "execution_count": 5,
   "id": "bd736a4f",
   "metadata": {},
   "outputs": [],
   "source": [
    "from qiskit import QuantumCircuit, QuantumRegister, ClassicalRegister\n",
    "\n",
    "def move_msm(qc):\n",
    "    \n",
    "    bits = []\n",
    "    for creg in qc.cregs:\n",
    "        for bit in creg:\n",
    "            bits.append(bit)\n",
    "\n",
    "    new_qc = QuantumCircuit()\n",
    "\n",
    "    for regs in [qc.qregs, qc.cregs]:\n",
    "        for reg in regs:\n",
    "            new_qc.add_register(reg)\n",
    "\n",
    "    aux = {}\n",
    "    for reg in qc.cregs:\n",
    "        for bit in reg:\n",
    "            aux[bits.index(bit)] = QuantumRegister(1)\n",
    "            new_qc.add_register(aux[bits.index(bit)])\n",
    "\n",
    "    for gate in qc.data:\n",
    "        if gate[0].name=='measure':\n",
    "            new_qc.cx(gate[1][0], aux[bits.index(gate[2][0])])\n",
    "        else:\n",
    "            new_qc.data.append(gate)\n",
    "            \n",
    "    new_qc.save_probabilities_dict()\n",
    "        \n",
    "    return new_qc, aux\n",
    "\n",
    "def format_probs(probs, new_qc, aux):\n",
    "    \n",
    "    bits = []\n",
    "    for creg in qc.cregs:\n",
    "        for bit in creg:\n",
    "            bits.append(bit)\n",
    "    \n",
    "    index = {}\n",
    "    for reg in new_qc.cregs:\n",
    "        for bit in reg:\n",
    "            index[bit] = new_qc.qubits.index(aux[bits.index(bit)][0])\n",
    "\n",
    "    new_probs = {}\n",
    "    for string,prob in probs.items(): \n",
    "        new_string = ''\n",
    "        for reg in new_qc.cregs:\n",
    "            for bit in reg:\n",
    "                j = index[bit]\n",
    "                new_string += string[-1-j]\n",
    "            new_string += ' '\n",
    "        new_string = new_string[::-1][1::]\n",
    "        if new_string in new_probs:\n",
    "            new_probs[new_string] += prob\n",
    "        else:\n",
    "            new_probs[new_string] = prob\n",
    "            \n",
    "    return new_probs"
   ]
  },
  {
   "cell_type": "markdown",
   "id": "b96100bc",
   "metadata": {},
   "source": [
    "Now we can run simulations of the codes for different candidate cnots, and see what logical error rates we find."
   ]
  },
  {
   "cell_type": "code",
   "execution_count": 7,
   "id": "0ae2a3e7",
   "metadata": {},
   "outputs": [
    {
     "name": "stdout",
     "output_type": "stream",
     "text": [
      "Complete: z 0.1\n",
      "Complete: z 0.12000000000000001\n",
      "Complete: z 0.14\n",
      "Complete: z 0.16\n",
      "Complete: z 0.18\n",
      "Complete: z 0.2\n",
      "Complete: z 0.22\n",
      "Complete: z 0.24000000000000002\n",
      "Complete: z 0.26\n",
      "Complete: z 0.28\n",
      "Complete: x 0.1\n",
      "Complete: x 0.12000000000000001\n",
      "Complete: x 0.14\n",
      "Complete: x 0.16\n",
      "Complete: x 0.18\n",
      "Complete: x 0.2\n",
      "Complete: x 0.22\n",
      "Complete: x 0.24000000000000002\n",
      "Complete: x 0.26\n",
      "Complete: x 0.28\n"
     ]
    }
   ],
   "source": [
    "# choose the type of code to study\n",
    "repetition = False\n",
    "# and the type of noise\n",
    "coherent = True\n",
    "\n",
    "# set the noise levels to study\n",
    "noise = [0.1+0.02*j for j in range(10)]\n",
    "# and calculate the corresponding process infidelities\n",
    "infidelity = [ 1-process_fidelity(noisy_cx(eps),noisy_cx(0)) for eps in noise ]\n",
    "\n",
    "backend = AerSimulator(zero_threshold=1e-5)\n",
    "if repetition:\n",
    "    d,T = 3,3\n",
    "else:\n",
    "    d,T = 3,1\n",
    "    \n",
    "sample = (not coherent) or (not repetition)\n",
    "if sample:\n",
    "    shots = 4*8192\n",
    "else:\n",
    "    shots = 1\n",
    "\n",
    "logical = {'z':[], 'x':[]}\n",
    "for basis in ['z', 'x']:\n",
    "    if repetition:\n",
    "        decoder = GraphDecoder(RepetitionCode(d,T,xbasis=(basis=='x')))\n",
    "    else:\n",
    "        decoder = GraphDecoder(SurfaceCode(d,T,basis=basis))\n",
    "    for eps in noise:\n",
    "        # make the noisy code\n",
    "        cand_cx = noisy_cx(eps,coherent=coherent)\n",
    "        if repetition:\n",
    "            code = make_noisy_code(RepetitionCode(d,T,xbasis=(basis=='x')),cand_cx)\n",
    "        else:\n",
    "            code = make_noisy_code(SurfaceCode(d,T,basis=basis),cand_cx)\n",
    "        # run it\n",
    "        raw_results = {}\n",
    "        if sample:\n",
    "            circuits = code.get_circuit_list()\n",
    "        else:\n",
    "            auxs = []\n",
    "            circuits = []\n",
    "            for qc in code.get_circuit_list():\n",
    "                new_qc,aux = move_msm(qc)\n",
    "                circuits.append(new_qc)\n",
    "                auxs.append(aux)\n",
    "        circuits = transpile(circuits,backend)\n",
    "        job = backend.run(circuits, shots=shots)\n",
    "        if sample:\n",
    "            for log in ['0','1']:\n",
    "                raw_results[log] = job.result().get_counts(int(log))\n",
    "        else:\n",
    "            for qc,aux in zip(circuits,auxs):\n",
    "                probs = job.result().data(qc)['probabilities']\n",
    "                n = str(len(qc.qubits))\n",
    "                probs = {('{0:0'+n+'b}').format(output):shots for output,shots in probs.items()}\n",
    "                raw_results[str(circuits.index(qc))] = {string:prob for string,prob in format_probs(probs, qc, aux).items()}\n",
    "\n",
    "        results = code.process_results(raw_results)\n",
    "        # get logical error probs\n",
    "        logical[basis].append( max(decoder.get_logical_prob(results).values()) )\n",
    "        print('Complete:',basis,eps)"
   ]
  },
  {
   "cell_type": "code",
   "execution_count": 8,
   "id": "cbf61f6b",
   "metadata": {},
   "outputs": [
    {
     "data": {
      "text/plain": [
       "<matplotlib.collections.PathCollection at 0x7faa570b3f40>"
      ]
     },
     "execution_count": 8,
     "metadata": {},
     "output_type": "execute_result"
    },
    {
     "data": {
      "image/png": "[encoded data removed]",
      "text/plain": [
       "<Figure size 432x288 with 1 Axes>"
      ]
     },
     "metadata": {
      "needs_background": "light"
     },
     "output_type": "display_data"
    }
   ],
   "source": [
    "plt.scatter(infidelity,[max(logical['z'][j],logical['x'][j]) for j in range(len(noise))],label='max')"
   ]
  },
  {
   "cell_type": "code",
   "execution_count": null,
   "id": "584426b0",
   "metadata": {},
   "outputs": [],
   "source": []
  }
 ],
 "metadata": {
  "kernelspec": {
   "display_name": "Python 3",
   "language": "python",
   "name": "python3"
  },
  "language_info": {
   "codemirror_mode": {
    "name": "ipython",
    "version": 3
   },
   "file_extension": ".py",
   "mimetype": "text/x-python",
   "name": "python",
   "nbconvert_exporter": "python",
   "pygments_lexer": "ipython3",
   "version": "3.9.1"
  }
 },
 "nbformat": 4,
 "nbformat_minor": 5
}
